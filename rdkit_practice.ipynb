{
 "cells": [
  {
   "cell_type": "code",
   "execution_count": 1,
   "metadata": {},
   "outputs": [],
   "source": [
    "import os\n",
    "import sys\n",
    "\n",
    "sys.path.append('/home/jovyan/kipi1/chaewon/scAIence/neuralfingerprint')"
   ]
  },
  {
   "cell_type": "code",
   "execution_count": 2,
   "metadata": {},
   "outputs": [],
   "source": [
    "import neuralfingerprint"
   ]
  },
  {
   "cell_type": "code",
   "execution_count": 1,
   "metadata": {},
   "outputs": [],
   "source": [
    "import rdkit\n",
    "from rdkit import Chem\n",
    "from rdkit.Chem import Draw\n",
    "\n",
    "import pandas as pd\n",
    "\n",
    "import copy"
   ]
  },
  {
   "cell_type": "code",
   "execution_count": 2,
   "metadata": {},
   "outputs": [
    {
     "data": {
      "text/html": [
       "<div>\n",
       "<style scoped>\n",
       "    .dataframe tbody tr th:only-of-type {\n",
       "        vertical-align: middle;\n",
       "    }\n",
       "\n",
       "    .dataframe tbody tr th {\n",
       "        vertical-align: top;\n",
       "    }\n",
       "\n",
       "    .dataframe thead th {\n",
       "        text-align: right;\n",
       "    }\n",
       "</style>\n",
       "<table border=\"1\" class=\"dataframe\">\n",
       "  <thead>\n",
       "    <tr style=\"text-align: right;\">\n",
       "      <th></th>\n",
       "      <th>Name</th>\n",
       "      <th>PubChem CID</th>\n",
       "      <th>CAS number</th>\n",
       "      <th>canonical SMILES</th>\n",
       "      <th>Taste</th>\n",
       "      <th>Class taste</th>\n",
       "      <th>Bitterness</th>\n",
       "    </tr>\n",
       "  </thead>\n",
       "  <tbody>\n",
       "    <tr>\n",
       "      <th>0</th>\n",
       "      <td>(-)-3-Methoxy-4-hydroxyphenol 1-O-?-D-(6?-O-ga...</td>\n",
       "      <td>385552</td>\n",
       "      <td>*</td>\n",
       "      <td>COc1cc(ccc1O)OC1OC(COC(=O)c2cc(c(c(c2)O)O)O)C(...</td>\n",
       "      <td>Bitter</td>\n",
       "      <td>Bitterness</td>\n",
       "      <td>1</td>\n",
       "    </tr>\n",
       "    <tr>\n",
       "      <th>1</th>\n",
       "      <td>(-)-alpha-thujone</td>\n",
       "      <td>261491</td>\n",
       "      <td>546-80-5</td>\n",
       "      <td>CC(C)C12CC2C(C)C(=O)C1</td>\n",
       "      <td>Bitter</td>\n",
       "      <td>Bitterness</td>\n",
       "      <td>1</td>\n",
       "    </tr>\n",
       "    <tr>\n",
       "      <th>2</th>\n",
       "      <td>(-)-Epicatechin</td>\n",
       "      <td>72276</td>\n",
       "      <td>490-46-0</td>\n",
       "      <td>OC1Cc2c(cc(cc2OC1c1ccc(c(c1)O)O)O)O</td>\n",
       "      <td>Bitter</td>\n",
       "      <td>Bitterness</td>\n",
       "      <td>1</td>\n",
       "    </tr>\n",
       "    <tr>\n",
       "      <th>3</th>\n",
       "      <td>(-)-Epicatechin gallate</td>\n",
       "      <td>107905</td>\n",
       "      <td>1257-08-5</td>\n",
       "      <td>Oc1cc(c2c(c1)OC(C(C2)OC(=O)c1cc(c(c(c1)O)O)O)c...</td>\n",
       "      <td>Bitter</td>\n",
       "      <td>Bitterness</td>\n",
       "      <td>1</td>\n",
       "    </tr>\n",
       "    <tr>\n",
       "      <th>4</th>\n",
       "      <td>(-)-Epigallocatechin (EGC)</td>\n",
       "      <td>72277</td>\n",
       "      <td>970-74-1</td>\n",
       "      <td>OC1Cc2c(cc(cc2OC1c1cc(c(c(c1)O)O)O)O)O</td>\n",
       "      <td>Bitter</td>\n",
       "      <td>Bitterness</td>\n",
       "      <td>1</td>\n",
       "    </tr>\n",
       "  </tbody>\n",
       "</table>\n",
       "</div>"
      ],
      "text/plain": [
       "                                                Name PubChem CID CAS number  \\\n",
       "0  (-)-3-Methoxy-4-hydroxyphenol 1-O-?-D-(6?-O-ga...      385552          *   \n",
       "1                                  (-)-alpha-thujone      261491   546-80-5   \n",
       "2                                    (-)-Epicatechin       72276   490-46-0   \n",
       "3                            (-)-Epicatechin gallate      107905  1257-08-5   \n",
       "4                         (-)-Epigallocatechin (EGC)       72277   970-74-1   \n",
       "\n",
       "                                    canonical SMILES   Taste Class taste  \\\n",
       "0  COc1cc(ccc1O)OC1OC(COC(=O)c2cc(c(c(c2)O)O)O)C(...  Bitter  Bitterness   \n",
       "1                             CC(C)C12CC2C(C)C(=O)C1  Bitter  Bitterness   \n",
       "2                OC1Cc2c(cc(cc2OC1c1ccc(c(c1)O)O)O)O  Bitter  Bitterness   \n",
       "3  Oc1cc(c2c(c1)OC(C(C2)OC(=O)c1cc(c(c(c1)O)O)O)c...  Bitter  Bitterness   \n",
       "4             OC1Cc2c(cc(cc2OC1c1cc(c(c(c1)O)O)O)O)O  Bitter  Bitterness   \n",
       "\n",
       "   Bitterness  \n",
       "0           1  \n",
       "1           1  \n",
       "2           1  \n",
       "3           1  \n",
       "4           1  "
      ]
     },
     "execution_count": 2,
     "metadata": {},
     "output_type": "execute_result"
    }
   ],
   "source": [
    "bitterdb = pd.read_csv('bitterness.csv')\n",
    "bitterdb.drop(['Unnamed: 0'], axis=1, inplace=True)\n",
    "bitterdb.head()"
   ]
  },
  {
   "cell_type": "code",
   "execution_count": 3,
   "metadata": {},
   "outputs": [
    {
     "name": "stdout",
     "output_type": "stream",
     "text": [
      "<class 'pandas.core.frame.DataFrame'>\n",
      "RangeIndex: 2511 entries, 0 to 2510\n",
      "Data columns (total 7 columns):\n",
      " #   Column            Non-Null Count  Dtype \n",
      "---  ------            --------------  ----- \n",
      " 0   Name              2511 non-null   object\n",
      " 1   PubChem CID       2511 non-null   object\n",
      " 2   CAS number        2511 non-null   object\n",
      " 3   canonical SMILES  2511 non-null   object\n",
      " 4   Taste             2511 non-null   object\n",
      " 5   Class taste       2511 non-null   object\n",
      " 6   Bitterness        2511 non-null   int64 \n",
      "dtypes: int64(1), object(6)\n",
      "memory usage: 137.4+ KB\n"
     ]
    }
   ],
   "source": [
    "bitterdb.info()"
   ]
  },
  {
   "cell_type": "code",
   "execution_count": 11,
   "metadata": {},
   "outputs": [
    {
     "data": {
      "text/plain": [
       "'OC(=O)c1ccccc1'"
      ]
     },
     "execution_count": 11,
     "metadata": {},
     "output_type": "execute_result"
    }
   ],
   "source": [
    "bitterdb[bitterdb['PubChem CID']=='243']['canonical SMILES'].values[0]"
   ]
  },
  {
   "cell_type": "code",
   "execution_count": 13,
   "metadata": {},
   "outputs": [
    {
     "ename": "AttributeError",
     "evalue": "module 'rdkit.Chem.Descriptors' has no attribute 'QED'",
     "output_type": "error",
     "traceback": [
      "\u001b[0;31m---------------------------------------------------------------------------\u001b[0m",
      "\u001b[0;31mAttributeError\u001b[0m                            Traceback (most recent call last)",
      "\u001b[0;32m/tmp/ipykernel_3394212/4117213632.py\u001b[0m in \u001b[0;36m<module>\u001b[0;34m\u001b[0m\n\u001b[1;32m      6\u001b[0m \u001b[0mMW\u001b[0m \u001b[0;34m=\u001b[0m \u001b[0mDescriptors\u001b[0m\u001b[0;34m.\u001b[0m\u001b[0mMolWt\u001b[0m\u001b[0;34m(\u001b[0m\u001b[0mmol\u001b[0m\u001b[0;34m)\u001b[0m\u001b[0;34m\u001b[0m\u001b[0;34m\u001b[0m\u001b[0m\n\u001b[1;32m      7\u001b[0m \u001b[0mRING\u001b[0m \u001b[0;34m=\u001b[0m \u001b[0mDescriptors\u001b[0m\u001b[0;34m.\u001b[0m\u001b[0mRingCount\u001b[0m\u001b[0;34m(\u001b[0m\u001b[0mmol\u001b[0m\u001b[0;34m)\u001b[0m\u001b[0;34m\u001b[0m\u001b[0;34m\u001b[0m\u001b[0m\n\u001b[0;32m----> 8\u001b[0;31m \u001b[0mQPlogHERG\u001b[0m \u001b[0;34m=\u001b[0m \u001b[0mDescriptors\u001b[0m\u001b[0;34m.\u001b[0m\u001b[0mQED\u001b[0m\u001b[0;34m(\u001b[0m\u001b[0mmol\u001b[0m\u001b[0;34m)\u001b[0m\u001b[0;34m\u001b[0m\u001b[0;34m\u001b[0m\u001b[0m\n\u001b[0m\u001b[1;32m      9\u001b[0m \u001b[0mHBA\u001b[0m \u001b[0;34m=\u001b[0m \u001b[0mDescriptors\u001b[0m\u001b[0;34m.\u001b[0m\u001b[0mNOCount\u001b[0m\u001b[0;34m(\u001b[0m\u001b[0mmol\u001b[0m\u001b[0;34m)\u001b[0m\u001b[0;34m\u001b[0m\u001b[0;34m\u001b[0m\u001b[0m\n\u001b[1;32m     10\u001b[0m \u001b[0mHBD\u001b[0m \u001b[0;34m=\u001b[0m \u001b[0mDescriptors\u001b[0m\u001b[0;34m.\u001b[0m\u001b[0mNHOHCount\u001b[0m\u001b[0;34m(\u001b[0m\u001b[0mmol\u001b[0m\u001b[0;34m)\u001b[0m\u001b[0;34m\u001b[0m\u001b[0;34m\u001b[0m\u001b[0m\n",
      "\u001b[0;31mAttributeError\u001b[0m: module 'rdkit.Chem.Descriptors' has no attribute 'QED'"
     ]
    }
   ],
   "source": [
    "from rdkit import Chem\n",
    "from rdkit.Chem import Descriptors\n",
    "mol = Chem.MolFromSmiles(bitterdb[bitterdb['PubChem CID']=='243']['canonical SMILES'].values[0])  # e.g. Paracetamol\n",
    "\n",
    "# Ro5 descriptors\n",
    "MW = Descriptors.MolWt(mol)\n",
    "RING = Descriptors.RingCount(mol)\n",
    "QPlogHERG = Descriptors.QED(mol)\n",
    "HBA = Descriptors.NOCount(mol)\n",
    "HBD = Descriptors.NHOHCount(mol)\n",
    "LogP = Descriptors.MolLogP(mol)\n",
    "# conditions = [MW <= 500, HBA <= 10, HBD <= 5, LogP <= 5]\n",
    "# pass_ro5 = conditions.count(True) >= 3\n",
    "# print(pass_ro5)\n",
    "print('Molecular weight: ', MW)\n",
    "print('Ring count: ', RING)\n",
    "print('QPlogHERG: ', QPlogHERG)\n",
    "print('HBA: ', HBA)\n",
    "print('HBD: ', HBD)\n",
    "print('LogP: ', LogP)"
   ]
  },
  {
   "cell_type": "markdown",
   "metadata": {},
   "source": [
    "### 1. Import dataframe from ChemTasteDB"
   ]
  },
  {
   "cell_type": "code",
   "execution_count": 24,
   "metadata": {},
   "outputs": [
    {
     "data": {
      "text/html": [
       "<div>\n",
       "<style scoped>\n",
       "    .dataframe tbody tr th:only-of-type {\n",
       "        vertical-align: middle;\n",
       "    }\n",
       "\n",
       "    .dataframe tbody tr th {\n",
       "        vertical-align: top;\n",
       "    }\n",
       "\n",
       "    .dataframe thead th {\n",
       "        text-align: right;\n",
       "    }\n",
       "</style>\n",
       "<table border=\"1\" class=\"dataframe\">\n",
       "  <thead>\n",
       "    <tr style=\"text-align: right;\">\n",
       "      <th></th>\n",
       "      <th>ID</th>\n",
       "      <th>Name</th>\n",
       "      <th>PubChem CID</th>\n",
       "      <th>CAS number</th>\n",
       "      <th>canonical SMILES</th>\n",
       "      <th>Taste</th>\n",
       "      <th>Class taste</th>\n",
       "      <th>Reference_(cod)/[pp]</th>\n",
       "    </tr>\n",
       "  </thead>\n",
       "  <tbody>\n",
       "    <tr>\n",
       "      <th>0</th>\n",
       "      <td>0001</td>\n",
       "      <td>(-)-Haematoxylin</td>\n",
       "      <td>320930</td>\n",
       "      <td>517-28-2</td>\n",
       "      <td>Oc1cc2c(cc1O)C1c3ccc(c(c3OCC1(O)C2)O)O</td>\n",
       "      <td>Sweet</td>\n",
       "      <td>Sweetness</td>\n",
       "      <td>Arnoldi1995_((-)-1); Bassoli2001_(39)</td>\n",
       "    </tr>\n",
       "    <tr>\n",
       "      <th>1</th>\n",
       "      <td>0002</td>\n",
       "      <td>(+)-4β-hydroxyhernandulcin</td>\n",
       "      <td>126862</td>\n",
       "      <td>145385-64-4</td>\n",
       "      <td>CC(C)=CCCC(C)(O)C1CC(O)C(=CC1=O)C</td>\n",
       "      <td>Sweet</td>\n",
       "      <td>Sweetness</td>\n",
       "      <td>Kinghorn1998_(2); Kinghorn2002_(7); Kinghorn20...</td>\n",
       "    </tr>\n",
       "    <tr>\n",
       "      <th>2</th>\n",
       "      <td>0003</td>\n",
       "      <td>(+)-Dihydroquercetin 3-acetate</td>\n",
       "      <td>442540</td>\n",
       "      <td>78834-97-6</td>\n",
       "      <td>CC(=O)OC1C(Oc2cc(cc(c2C1=O)O)O)c1ccc(c(c1)O)O</td>\n",
       "      <td>Sweet</td>\n",
       "      <td>Sweetness</td>\n",
       "      <td>Bouysset2020_(175); Kinghorn2002_(26); Shallen...</td>\n",
       "    </tr>\n",
       "    <tr>\n",
       "      <th>3</th>\n",
       "      <td>0004</td>\n",
       "      <td>(+)-Haematoxylin</td>\n",
       "      <td>442514</td>\n",
       "      <td>517-28-2</td>\n",
       "      <td>Oc1cc2c(cc1O)C1c3ccc(c(c3OCC1(O)C2)O)O</td>\n",
       "      <td>Sweet</td>\n",
       "      <td>Sweetness</td>\n",
       "      <td>Arnoldi1995_((+)-1); Arnoldi1996_(12); Bassoli...</td>\n",
       "    </tr>\n",
       "    <tr>\n",
       "      <th>4</th>\n",
       "      <td>0005</td>\n",
       "      <td>(±)-chiro-inositol</td>\n",
       "      <td>892</td>\n",
       "      <td>643-12-9</td>\n",
       "      <td>OC1C(O)C(O)C(O)C(O)C1O</td>\n",
       "      <td>Sweet</td>\n",
       "      <td>Sweetness</td>\n",
       "      <td>Shallenberger1993_[149]</td>\n",
       "    </tr>\n",
       "  </tbody>\n",
       "</table>\n",
       "</div>"
      ],
      "text/plain": [
       "     ID                            Name PubChem CID   CAS number  \\\n",
       "0  0001                (-)-Haematoxylin      320930     517-28-2   \n",
       "1  0002      (+)-4β-hydroxyhernandulcin      126862  145385-64-4   \n",
       "2  0003  (+)-Dihydroquercetin 3-acetate      442540   78834-97-6   \n",
       "3  0004                (+)-Haematoxylin      442514     517-28-2   \n",
       "4  0005              (±)-chiro-inositol         892     643-12-9   \n",
       "\n",
       "                                canonical SMILES  Taste Class taste  \\\n",
       "0         Oc1cc2c(cc1O)C1c3ccc(c(c3OCC1(O)C2)O)O  Sweet   Sweetness   \n",
       "1              CC(C)=CCCC(C)(O)C1CC(O)C(=CC1=O)C  Sweet   Sweetness   \n",
       "2  CC(=O)OC1C(Oc2cc(cc(c2C1=O)O)O)c1ccc(c(c1)O)O  Sweet   Sweetness   \n",
       "3         Oc1cc2c(cc1O)C1c3ccc(c(c3OCC1(O)C2)O)O  Sweet   Sweetness   \n",
       "4                         OC1C(O)C(O)C(O)C(O)C1O  Sweet   Sweetness   \n",
       "\n",
       "                                Reference_(cod)/[pp]  \n",
       "0              Arnoldi1995_((-)-1); Bassoli2001_(39)  \n",
       "1  Kinghorn1998_(2); Kinghorn2002_(7); Kinghorn20...  \n",
       "2  Bouysset2020_(175); Kinghorn2002_(26); Shallen...  \n",
       "3  Arnoldi1995_((+)-1); Arnoldi1996_(12); Bassoli...  \n",
       "4                            Shallenberger1993_[149]  "
      ]
     },
     "execution_count": 24,
     "metadata": {},
     "output_type": "execute_result"
    }
   ],
   "source": [
    "chemtaste = pd.read_excel('ChemTastesDB_database.xlsx')\n",
    "chemtaste.head()"
   ]
  },
  {
   "cell_type": "code",
   "execution_count": 25,
   "metadata": {},
   "outputs": [
    {
     "data": {
      "text/plain": [
       "ID                      3\n",
       "Name                    1\n",
       "PubChem CID             3\n",
       "CAS number              3\n",
       "canonical SMILES        3\n",
       "Taste                   3\n",
       "Class taste             3\n",
       "Reference_(cod)/[pp]    3\n",
       "dtype: int64"
      ]
     },
     "execution_count": 25,
     "metadata": {},
     "output_type": "execute_result"
    }
   ],
   "source": [
    "# Use deepcopy for preserving the original dataframe\n",
    "ct = copy.deepcopy(chemtaste)\n",
    "\n",
    "# Check for null values\n",
    "ct.isnull().sum()"
   ]
  },
  {
   "cell_type": "code",
   "execution_count": 26,
   "metadata": {},
   "outputs": [
    {
     "data": {
      "text/html": [
       "<div>\n",
       "<style scoped>\n",
       "    .dataframe tbody tr th:only-of-type {\n",
       "        vertical-align: middle;\n",
       "    }\n",
       "\n",
       "    .dataframe tbody tr th {\n",
       "        vertical-align: top;\n",
       "    }\n",
       "\n",
       "    .dataframe thead th {\n",
       "        text-align: right;\n",
       "    }\n",
       "</style>\n",
       "<table border=\"1\" class=\"dataframe\">\n",
       "  <thead>\n",
       "    <tr style=\"text-align: right;\">\n",
       "      <th></th>\n",
       "      <th>ID</th>\n",
       "      <th>Name</th>\n",
       "      <th>PubChem CID</th>\n",
       "      <th>CAS number</th>\n",
       "      <th>canonical SMILES</th>\n",
       "      <th>Taste</th>\n",
       "      <th>Class taste</th>\n",
       "      <th>Reference_(cod)/[pp]</th>\n",
       "    </tr>\n",
       "  </thead>\n",
       "  <tbody>\n",
       "    <tr>\n",
       "      <th>2942</th>\n",
       "      <td>2943</td>\n",
       "      <td>WS23</td>\n",
       "      <td>3016599</td>\n",
       "      <td>51115-71-0</td>\n",
       "      <td>CCNC(=O)C(C)(C(C)C)C(C)C</td>\n",
       "      <td>Cooling</td>\n",
       "      <td>Miscellaneous</td>\n",
       "      <td>Ley2012_[28]</td>\n",
       "    </tr>\n",
       "    <tr>\n",
       "      <th>2943</th>\n",
       "      <td>2944</td>\n",
       "      <td>WS3</td>\n",
       "      <td>62907</td>\n",
       "      <td>39711-79-0</td>\n",
       "      <td>CCNC(=O)C1CC(C)CCC1C(C)C</td>\n",
       "      <td>Cooling</td>\n",
       "      <td>Miscellaneous</td>\n",
       "      <td>Ley2012_[28]</td>\n",
       "    </tr>\n",
       "    <tr>\n",
       "      <th>2944</th>\n",
       "      <td>NaN</td>\n",
       "      <td>NaN</td>\n",
       "      <td>NaN</td>\n",
       "      <td>NaN</td>\n",
       "      <td>NaN</td>\n",
       "      <td>NaN</td>\n",
       "      <td>NaN</td>\n",
       "      <td>NaN</td>\n",
       "    </tr>\n",
       "    <tr>\n",
       "      <th>2945</th>\n",
       "      <td>NaN</td>\n",
       "      <td>^ Chemical compound information (name, PubChem...</td>\n",
       "      <td>NaN</td>\n",
       "      <td>NaN</td>\n",
       "      <td>NaN</td>\n",
       "      <td>NaN</td>\n",
       "      <td>NaN</td>\n",
       "      <td>NaN</td>\n",
       "    </tr>\n",
       "    <tr>\n",
       "      <th>2946</th>\n",
       "      <td>NaN</td>\n",
       "      <td>* IUPAC name generated in Marvin Sketch 21.17.0</td>\n",
       "      <td>NaN</td>\n",
       "      <td>NaN</td>\n",
       "      <td>NaN</td>\n",
       "      <td>NaN</td>\n",
       "      <td>NaN</td>\n",
       "      <td>NaN</td>\n",
       "    </tr>\n",
       "  </tbody>\n",
       "</table>\n",
       "</div>"
      ],
      "text/plain": [
       "        ID                                               Name PubChem CID  \\\n",
       "2942  2943                                               WS23     3016599   \n",
       "2943  2944                                                WS3       62907   \n",
       "2944   NaN                                                NaN         NaN   \n",
       "2945   NaN  ^ Chemical compound information (name, PubChem...         NaN   \n",
       "2946   NaN    * IUPAC name generated in Marvin Sketch 21.17.0         NaN   \n",
       "\n",
       "      CAS number          canonical SMILES    Taste    Class taste  \\\n",
       "2942  51115-71-0  CCNC(=O)C(C)(C(C)C)C(C)C  Cooling  Miscellaneous   \n",
       "2943  39711-79-0  CCNC(=O)C1CC(C)CCC1C(C)C  Cooling  Miscellaneous   \n",
       "2944         NaN                       NaN      NaN            NaN   \n",
       "2945         NaN                       NaN      NaN            NaN   \n",
       "2946         NaN                       NaN      NaN            NaN   \n",
       "\n",
       "     Reference_(cod)/[pp]  \n",
       "2942         Ley2012_[28]  \n",
       "2943         Ley2012_[28]  \n",
       "2944                  NaN  \n",
       "2945                  NaN  \n",
       "2946                  NaN  "
      ]
     },
     "execution_count": 26,
     "metadata": {},
     "output_type": "execute_result"
    }
   ],
   "source": [
    "# Delete the last 3 lines because they are descriptions\n",
    "ct.tail()"
   ]
  },
  {
   "cell_type": "code",
   "execution_count": 27,
   "metadata": {},
   "outputs": [
    {
     "data": {
      "text/html": [
       "<div>\n",
       "<style scoped>\n",
       "    .dataframe tbody tr th:only-of-type {\n",
       "        vertical-align: middle;\n",
       "    }\n",
       "\n",
       "    .dataframe tbody tr th {\n",
       "        vertical-align: top;\n",
       "    }\n",
       "\n",
       "    .dataframe thead th {\n",
       "        text-align: right;\n",
       "    }\n",
       "</style>\n",
       "<table border=\"1\" class=\"dataframe\">\n",
       "  <thead>\n",
       "    <tr style=\"text-align: right;\">\n",
       "      <th></th>\n",
       "      <th>ID</th>\n",
       "      <th>Name</th>\n",
       "      <th>PubChem CID</th>\n",
       "      <th>CAS number</th>\n",
       "      <th>canonical SMILES</th>\n",
       "      <th>Taste</th>\n",
       "      <th>Class taste</th>\n",
       "      <th>Reference_(cod)/[pp]</th>\n",
       "    </tr>\n",
       "  </thead>\n",
       "  <tbody>\n",
       "    <tr>\n",
       "      <th>2939</th>\n",
       "      <td>2940</td>\n",
       "      <td>Spilanthol</td>\n",
       "      <td>5353001</td>\n",
       "      <td>25394-57-4</td>\n",
       "      <td>CC=CC=CCCC=CC(=O)NCC(C)C</td>\n",
       "      <td>Heating, pungent, and tingling</td>\n",
       "      <td>Miscellaneous</td>\n",
       "      <td>Ley2012_[26]</td>\n",
       "    </tr>\n",
       "    <tr>\n",
       "      <th>2940</th>\n",
       "      <td>2941</td>\n",
       "      <td>Tannic acid</td>\n",
       "      <td>16129778</td>\n",
       "      <td>1401-55-4</td>\n",
       "      <td>Oc1cc(cc(c1O)O)C(=O)Oc1cc(cc(c1O)O)C(=O)OCC1OC...</td>\n",
       "      <td>Astringent</td>\n",
       "      <td>Miscellaneous</td>\n",
       "      <td>Ley2012_[29]</td>\n",
       "    </tr>\n",
       "    <tr>\n",
       "      <th>2941</th>\n",
       "      <td>2942</td>\n",
       "      <td>trans-Pellitorine</td>\n",
       "      <td>5318516</td>\n",
       "      <td>18836-52-7</td>\n",
       "      <td>CCCCCC=CC=CC(=O)NCC(C)C</td>\n",
       "      <td>Heating, pungent, and tingling</td>\n",
       "      <td>Miscellaneous</td>\n",
       "      <td>Ley2012_[26]</td>\n",
       "    </tr>\n",
       "    <tr>\n",
       "      <th>2942</th>\n",
       "      <td>2943</td>\n",
       "      <td>WS23</td>\n",
       "      <td>3016599</td>\n",
       "      <td>51115-71-0</td>\n",
       "      <td>CCNC(=O)C(C)(C(C)C)C(C)C</td>\n",
       "      <td>Cooling</td>\n",
       "      <td>Miscellaneous</td>\n",
       "      <td>Ley2012_[28]</td>\n",
       "    </tr>\n",
       "    <tr>\n",
       "      <th>2943</th>\n",
       "      <td>2944</td>\n",
       "      <td>WS3</td>\n",
       "      <td>62907</td>\n",
       "      <td>39711-79-0</td>\n",
       "      <td>CCNC(=O)C1CC(C)CCC1C(C)C</td>\n",
       "      <td>Cooling</td>\n",
       "      <td>Miscellaneous</td>\n",
       "      <td>Ley2012_[28]</td>\n",
       "    </tr>\n",
       "  </tbody>\n",
       "</table>\n",
       "</div>"
      ],
      "text/plain": [
       "        ID               Name PubChem CID  CAS number  \\\n",
       "2939  2940         Spilanthol     5353001  25394-57-4   \n",
       "2940  2941        Tannic acid    16129778   1401-55-4   \n",
       "2941  2942  trans-Pellitorine     5318516  18836-52-7   \n",
       "2942  2943               WS23     3016599  51115-71-0   \n",
       "2943  2944                WS3       62907  39711-79-0   \n",
       "\n",
       "                                       canonical SMILES  \\\n",
       "2939                           CC=CC=CCCC=CC(=O)NCC(C)C   \n",
       "2940  Oc1cc(cc(c1O)O)C(=O)Oc1cc(cc(c1O)O)C(=O)OCC1OC...   \n",
       "2941                            CCCCCC=CC=CC(=O)NCC(C)C   \n",
       "2942                           CCNC(=O)C(C)(C(C)C)C(C)C   \n",
       "2943                           CCNC(=O)C1CC(C)CCC1C(C)C   \n",
       "\n",
       "                               Taste    Class taste Reference_(cod)/[pp]  \n",
       "2939  Heating, pungent, and tingling  Miscellaneous         Ley2012_[26]  \n",
       "2940                      Astringent  Miscellaneous         Ley2012_[29]  \n",
       "2941  Heating, pungent, and tingling  Miscellaneous         Ley2012_[26]  \n",
       "2942                         Cooling  Miscellaneous         Ley2012_[28]  \n",
       "2943                         Cooling  Miscellaneous         Ley2012_[28]  "
      ]
     },
     "execution_count": 27,
     "metadata": {},
     "output_type": "execute_result"
    }
   ],
   "source": [
    "ct = ct[:2944]\n",
    "ct.tail()"
   ]
  },
  {
   "cell_type": "code",
   "execution_count": 28,
   "metadata": {},
   "outputs": [],
   "source": [
    "# Drop the columns that are not needed\n",
    "ct.drop(['Reference_(cod)/[pp]'], inplace=True, axis=1)"
   ]
  },
  {
   "cell_type": "markdown",
   "metadata": {},
   "source": [
    "Check this [link][ChemTasteDB paper] for understanding the meaning of values in *['Taste']* column such as *'Sweet(16); Bitter', 'Non-sweet(2); Bitter(2)'* or other tastes.\n",
    "\n",
    "[ChemTasteDB paper]: https://www.ncbi.nlm.nih.gov/pmc/articles/PMC8991844/#:~:text=in%20this%20step%3B-,d.,bitter%2C%20non%2Dbitter/burning%2C%20non%2Dsweet/sweet%2C%20sweet/bitter%2C%20sweet/tasteless\\).,-2.4.%20Analysis%20of"
   ]
  },
  {
   "cell_type": "code",
   "execution_count": 29,
   "metadata": {},
   "outputs": [
    {
     "data": {
      "text/plain": [
       "array(['Sweet(5); Bitter', 'Sweet(16); Bitter', 'Sweet(11); Bitter',\n",
       "       'Sweet; Sweet/Bitter', 'Sweet(4); Bitter', 'Sweet/Bitter; Sweet',\n",
       "       'Sweet(11); Sweet/Bitter', 'Sweet(6); Bitter', 'Sweet(18); Bitter',\n",
       "       'Sweet(13); Bitter', 'Sweet(12); Bitter', 'Bitter',\n",
       "       'Strongly bitter', 'Bitter; Non-sweet', 'Extremely bitter',\n",
       "       'Moderately bitter', 'Slightly bitter', 'Somewhat bitter',\n",
       "       'Moderately bitter; Bitter(2)', 'Very bitter',\n",
       "       'Non-sweet(2); Bitter(2)', 'Non-sweet; Bitter',\n",
       "       'Moderately bitter; Slightly sweet; Bitter', 'Faintly bitter',\n",
       "       'Intensely bitter', 'Strongly bitter; Bitter',\n",
       "       'Bitter(2); Astringent', 'Entirely Bitter; Bitter',\n",
       "       'Bitter(2); Non-sweet',\n",
       "       'Bitter(2); Bitter/Slightly bitter; Non-sweet',\n",
       "       'Bitter(3); Slightly bitter; Non-sweet', 'Bitter(2); Sweet/Bitter',\n",
       "       'Tasteless; Bitter(3); Slightly bitter; Non-sweet',\n",
       "       'Bitter(3); Non-sweet', 'Bitter(4); Non-sweet',\n",
       "       'Bitter; Salty/Bitter', 'Bitter(4); Strongly bitter',\n",
       "       'Faintly bitter\\xa0', 'Bitter(2); Intensely bitter',\n",
       "       'Intensely bitter; Bitter/Sour', 'Highly bitter',\n",
       "       'Somewhat Bitter', 'Faint bitter', 'Bitter(3); Intensely bitter',\n",
       "       'Feebly bitter', 'Non-sweet/Sweet; Bitter',\n",
       "       'Strongly bitter; Salty/Bitter',\n",
       "       'Intensely bitter; Very bitter; Extremely bitter',\n",
       "       'Slightly bitter; Bitter', 'Bitter/Burning; Bitter',\n",
       "       'Bitter, burning, pungent, like fresh walnut; Bitter',\n",
       "       'Bitter/Burning; Bitter(2)', 'Sweet/Bitter; Bitter',\n",
       "       'Salty(3); Bitter', 'Bitter; Sweet', 'Bitter/Burning',\n",
       "       'Sweet/Bitter; Bitter/Sweet', 'Sweet/Bitter', 'Bitter/Astringent',\n",
       "       'Bitter/Sweet', 'Bitter; Heating, pungent, and tingling',\n",
       "       'Bitter/Salty', 'Sour/Bitter; Non-sweet', 'Bitter/Pungent',\n",
       "       'Bitter; Salty', 'Sweet/Bitter/Sour', 'Bitter; Umami',\n",
       "       'Umami/Bitter', 'Bitter/Burning/Pungent',\n",
       "       'Moderately bitter; Cooling', 'Sulphurous; Bitter/Sweet',\n",
       "       'Sour/Bitter', 'Bitter/Astringent/Sweet', 'Bitter; Sweet/Sour',\n",
       "       'Sour/Bitter/Sweet', 'Non-bitter/Burning',\n",
       "       'Bitter (repugnant off-taste)',\n",
       "       'Hot burning; Heating, pungent, and tingling; Moderately bitter',\n",
       "       'Neutral; Bitter', 'Neutral/Tasteless; Bitter/Sweet; Non-sweet',\n",
       "       'Neutral; Sweet/Bitter', 'Non-bitter', 'Bitter/Burning/Scratchy',\n",
       "       'Non-bitter; Bitter', 'Bitter/Tasteless',\n",
       "       'Bitter/Tasteless; Non-sweet', 'Non-sweet; Sweet/Bitter'],\n",
       "      dtype=object)"
      ]
     },
     "execution_count": 29,
     "metadata": {},
     "output_type": "execute_result"
    }
   ],
   "source": [
    "ct[ct['Taste'].str.contains('bitter', case=False)]['Taste'].unique()"
   ]
  },
  {
   "cell_type": "code",
   "execution_count": 31,
   "metadata": {},
   "outputs": [],
   "source": [
    "# Organizing a data frame to perform a binary classification of whether a molecule is bitter or not\n",
    "\n",
    "# For bitter molecules, use only data with a value of 'Bitterness' in the ['Class taste'] column\n",
    "bitterness = ct[ct['Class taste'] == 'Bitterness']\n",
    "\n",
    "# For non-bitter molecules,\n",
    "# use data with values of 'Sweetness', 'Umaminess', 'Sourness', 'Saltiness', and 'Tastelessness'\n",
    "# in the ['Class taste'] column\n",
    "others = ct[ct['Class taste'].str.contains('Sweetness|Umaminess|Sourness|Saltiness|Tastelessness')]\n",
    "\n",
    "# Create a new column, ['bitterness'], and label it with 1 for bitter molecules and 0 for non-bitter molecules.\n",
    "bitterness.insert(7, 'Bitterness', 1)\n",
    "others.insert(7, 'Bitterness', 0)\n",
    "\n",
    "bitterness = pd.concat((bitterness, others), axis=0)\n",
    "\n",
    "\n",
    "bitterness.drop(['ID'], inplace=True, axis=1)\n",
    "bitterness.reset_index(inplace=True, drop=True)\n",
    "\n",
    "bitterness\n",
    "\n",
    "# bitterness.to_csv('bitterness.csv', index=True)"
   ]
  },
  {
   "cell_type": "code",
   "execution_count": 32,
   "metadata": {},
   "outputs": [
    {
     "data": {
      "text/plain": [
       "1328"
      ]
     },
     "execution_count": 32,
     "metadata": {},
     "output_type": "execute_result"
    }
   ],
   "source": [
    "len(bitterness[bitterness['Bitterness'] == 0])"
   ]
  },
  {
   "cell_type": "code",
   "execution_count": 12,
   "metadata": {},
   "outputs": [
    {
     "ename": "NameError",
     "evalue": "name 'bitterness' is not defined",
     "output_type": "error",
     "traceback": [
      "\u001b[0;31m---------------------------------------------------------------------------\u001b[0m",
      "\u001b[0;31mNameError\u001b[0m                                 Traceback (most recent call last)",
      "\u001b[0;32m/tmp/ipykernel_133227/2189126797.py\u001b[0m in \u001b[0;36m<module>\u001b[0;34m\u001b[0m\n\u001b[0;32m----> 1\u001b[0;31m \u001b[0mbitterness\u001b[0m\u001b[0;34m[\u001b[0m\u001b[0;34m'canonical SMILES'\u001b[0m\u001b[0;34m]\u001b[0m\u001b[0;34m.\u001b[0m\u001b[0mmax\u001b[0m\u001b[0;34m(\u001b[0m\u001b[0;34m)\u001b[0m\u001b[0;34m\u001b[0m\u001b[0;34m\u001b[0m\u001b[0m\n\u001b[0m",
      "\u001b[0;31mNameError\u001b[0m: name 'bitterness' is not defined"
     ]
    }
   ],
   "source": [
    "bitterness['canonical SMILES'].max()"
   ]
  },
  {
   "cell_type": "markdown",
   "metadata": {},
   "source": [
    "### Rdkit 실습"
   ]
  },
  {
   "cell_type": "code",
   "execution_count": 131,
   "metadata": {},
   "outputs": [
    {
     "data": {
      "image/png": "[encoded data removed]",
      "text/plain": [
       "<rdkit.Chem.rdchem.Mol at 0x19376c5bdf0>"
      ]
     },
     "execution_count": 131,
     "metadata": {},
     "output_type": "execute_result"
    }
   ],
   "source": [
    "m = Chem.MolFromSmiles('Cc1ccccc1') \n",
    "m"
   ]
  },
  {
   "cell_type": "code",
   "execution_count": 132,
   "metadata": {},
   "outputs": [
    {
     "data": {
      "text/plain": [
       "rdkit.Chem.rdchem.Mol"
      ]
     },
     "execution_count": 132,
     "metadata": {},
     "output_type": "execute_result"
    }
   ],
   "source": [
    "type(m)"
   ]
  },
  {
   "cell_type": "code",
   "execution_count": 133,
   "metadata": {},
   "outputs": [
    {
     "data": {
      "image/jpeg": "[encoded data removed]",
      "image/png": "[encoded data removed]",
      "text/plain": [
       "<PIL.PngImagePlugin.PngImageFile image mode=RGB size=300x300>"
      ]
     },
     "execution_count": 133,
     "metadata": {},
     "output_type": "execute_result"
    }
   ],
   "source": [
    "img = Draw.MolToImage(m)\n",
    "img"
   ]
  },
  {
   "cell_type": "code",
   "execution_count": 134,
   "metadata": {},
   "outputs": [],
   "source": [
    "from rdkit.Chem.Draw import rdMolDraw2D"
   ]
  },
  {
   "cell_type": "code",
   "execution_count": 135,
   "metadata": {},
   "outputs": [],
   "source": [
    "smi = 'c1cc(F)ccc1Cl'\n",
    "mol = Chem.MolFromSmiles(smi)\n",
    "patt = Chem.MolFromSmarts('c1cc(F)ccc1Cl')\n",
    "hit_ats = list(mol.GetSubstructMatch(patt))\n",
    "hit_bonds = []\n",
    "for bond in patt.GetBonds():\n",
    "    aid1 = hit_ats[bond.GetBeginAtomIdx()]\n",
    "    aid2 = hit_ats[bond.GetEndAtomIdx()]\n",
    "    hit_bonds.append(mol.GetBondBetweenAtoms(aid1,aid2).GetIdx())\n",
    "\n",
    "d = rdMolDraw2D.MolDraw2DSVG(500, 500) # or MolDraw2DCairo to get PNGs\n",
    "rdMolDraw2D.PrepareAndDrawMolecule(d, mol, highlightAtoms=hit_ats,\n",
    "                                   highlightBonds=hit_bonds)\n"
   ]
  },
  {
   "cell_type": "code",
   "execution_count": 136,
   "metadata": {},
   "outputs": [
    {
     "data": {
      "text/plain": [
       "[0, 1, 2, 3, 4, 5, 6, 7]"
      ]
     },
     "execution_count": 136,
     "metadata": {},
     "output_type": "execute_result"
    }
   ],
   "source": [
    "hit_ats"
   ]
  },
  {
   "cell_type": "code",
   "execution_count": 4,
   "metadata": {},
   "outputs": [],
   "source": [
    "import chemspipy"
   ]
  },
  {
   "cell_type": "code",
   "execution_count": 5,
   "metadata": {},
   "outputs": [],
   "source": [
    "from chemspipy import ChemSpider"
   ]
  },
  {
   "cell_type": "code",
   "execution_count": 6,
   "metadata": {},
   "outputs": [
    {
     "data": {
      "text/plain": [
       "ChemSpider()"
      ]
     },
     "execution_count": 6,
     "metadata": {},
     "output_type": "execute_result"
    }
   ],
   "source": [
    "cs = ChemSpider('ajMYHSA210pqN25bhrb4UJYA7wdepRTq')\n",
    "cs"
   ]
  },
  {
   "cell_type": "code",
   "execution_count": 8,
   "metadata": {},
   "outputs": [],
   "source": [
    "c = cs.get_compound(2157)"
   ]
  },
  {
   "cell_type": "code",
   "execution_count": null,
   "metadata": {},
   "outputs": [
    {
     "data": {
      "image/png": "[encoded data removed]",
      "text/plain": [
       "Compound(2157)"
      ]
     },
     "execution_count": 9,
     "metadata": {},
     "output_type": "execute_result"
    }
   ],
   "source": [
    "c"
   ]
  }
 ],
 "metadata": {
  "kernelspec": {
   "display_name": "torch1.10.0-py3.8-cuda11.3",
   "language": "python",
   "name": "python3"
  },
  "language_info": {
   "codemirror_mode": {
    "name": "ipython",
    "version": 3
   },
   "file_extension": ".py",
   "mimetype": "text/x-python",
   "name": "python",
   "nbconvert_exporter": "python",
   "pygments_lexer": "ipython3",
   "version": "3.8.10"
  },
  "orig_nbformat": 4
 },
 "nbformat": 4,
 "nbformat_minor": 2
}
